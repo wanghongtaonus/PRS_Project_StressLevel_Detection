{
 "cells": [
  {
   "cell_type": "code",
   "execution_count": 1,
   "id": "62d11e54",
   "metadata": {},
   "outputs": [
    {
     "name": "stdout",
     "output_type": "stream",
     "text": [
      "4.5.3\n"
     ]
    }
   ],
   "source": [
    "import cv2\n",
    "import numpy as np\n",
    "from matplotlib import pyplot as plt\n",
    "%matplotlib inline\n",
    "import time\n",
    "import os\n",
    "#from google.colab.patches import cv2_imshow\n",
    "print(cv2.__version__)"
   ]
  },
  {
   "cell_type": "code",
   "execution_count": 2,
   "id": "f6b6f136",
   "metadata": {},
   "outputs": [],
   "source": [
    "from tensorflow.compat.v1 import ConfigProto\n",
    "from tensorflow.compat.v1 import InteractiveSession\n",
    "\n",
    "config = ConfigProto()\n",
    "config.gpu_options.allow_growth = True\n",
    "session = InteractiveSession(config=config)\n",
    "\n",
    "import numpy as np\n",
    "from tensorflow.keras.models import Sequential\n",
    "from tensorflow.keras.layers import Dense, Dropout, Flatten\n",
    "from tensorflow.keras.layers import Conv2D\n",
    "from tensorflow.keras.optimizers import Adam\n",
    "from tensorflow.keras.layers import MaxPooling2D\n",
    "from tensorflow.keras.preprocessing.image import ImageDataGenerator\n",
    "from keras.callbacks import LambdaCallback\n",
    "from keras.callbacks import ModelCheckpoint\n",
    "import pandas as pd\n",
    "import keras"
   ]
  },
  {
   "cell_type": "code",
   "execution_count": 3,
   "id": "996f0cbc",
   "metadata": {},
   "outputs": [],
   "source": [
    "def process_seq():\n",
    "    global seq\n",
    "    "
   ]
  },
  {
   "cell_type": "code",
   "execution_count": 3,
   "id": "9267f39b",
   "metadata": {},
   "outputs": [],
   "source": [
    "def vgg13_model(n_classes):\n",
    "    model = Sequential()\n",
    "    model.add(Conv2D(64, (3, 3), strides=(1, 1), input_shape=(64, 64, 1), padding='same', activation='relu',\n",
    "                     kernel_initializer='glorot_uniform'))\n",
    "    model.add(Conv2D(64, (3, 3), strides=(1, 1), padding='same', activation='relu', kernel_initializer='glorot_uniform'))\n",
    "    model.add(MaxPooling2D(pool_size=(2, 2)))\n",
    "    model.add(Dropout(0.25))\n",
    "    model.add(Conv2D(128, (3, 3), strides=(1, 1), padding='same', activation='relu', kernel_initializer='glorot_uniform'))\n",
    "    model.add(Conv2D(128, (3, 3), strides=(1, 1), padding='same', activation='relu', kernel_initializer='glorot_uniform'))\n",
    "    model.add(MaxPooling2D(pool_size=(2, 2)))\n",
    "    model.add(Dropout(0.25))\n",
    "    model.add(Conv2D(256, (3, 3), strides=(1, 1), padding='same', activation='relu', kernel_initializer='glorot_uniform'))\n",
    "    model.add(Conv2D(256, (3, 3), strides=(1, 1), padding='same', activation='relu', kernel_initializer='glorot_uniform'))\n",
    "    model.add(Conv2D(256, (3, 3), strides=(1, 1), padding='same', activation='relu', kernel_initializer='glorot_uniform'))\n",
    "    model.add(MaxPooling2D(pool_size=(2, 2)))\n",
    "    model.add(Dropout(0.25))\n",
    "    model.add(Conv2D(256, (3, 3), strides=(1, 1), padding='same', activation='relu', kernel_initializer='glorot_uniform'))\n",
    "    model.add(Conv2D(256, (3, 3), strides=(1, 1), padding='same', activation='relu', kernel_initializer='glorot_uniform'))\n",
    "    model.add(Conv2D(256, (3, 3), strides=(1, 1), padding='same', activation='relu', kernel_initializer='glorot_uniform'))\n",
    "    model.add(MaxPooling2D(pool_size=(2, 2)))\n",
    "    model.add(Dropout(0.25))\n",
    "    model.add(Flatten())\n",
    "    model.add(Dense(1024, activation='relu'))\n",
    "    model.add(Dropout(0.5))\n",
    "    model.add(Dense(1024, activation='relu'))\n",
    "    model.add(Dropout(0.5))\n",
    "    model.add(Dense(n_classes, activation='softmax'))\n",
    "    return model"
   ]
  },
  {
   "cell_type": "code",
   "execution_count": 4,
   "id": "80aeb541",
   "metadata": {},
   "outputs": [],
   "source": [
    "model = vgg13_model(8)\n",
    "model.load_weights('./data/model_40-0.80.hdf5')"
   ]
  },
  {
   "cell_type": "code",
   "execution_count": 5,
   "id": "34983134",
   "metadata": {},
   "outputs": [
    {
     "name": "stdout",
     "output_type": "stream",
     "text": [
      "caffemodel ' ./data/MobileNetSSD_deploy.caffemodel ' loaded\n"
     ]
    }
   ],
   "source": [
    "classNames      = {0: 'no_face',\n",
    "                   1: 'face'}\n",
    "\n",
    "prototxt        = './data/MobileNetSSD_deploy.prototxt'\n",
    "caffemodel      = './data/MobileNetSSD_deploy.caffemodel'\n",
    "#net             = cv2.dnn.readNetFromCaffe(prototxt, caffemodel)\n",
    "net             = cv2.dnn.readNetFromCaffe(\"./data/deploy.prototxt\",\"./data/res10_300x300_ssd_iter_140000_fp16.caffemodel\")\n",
    "print(\"caffemodel '\", caffemodel, \"' loaded\")"
   ]
  },
  {
   "cell_type": "code",
   "execution_count": 64,
   "id": "6322b0b0",
   "metadata": {
    "scrolled": true
   },
   "outputs": [],
   "source": [
    "videopath       = './data/test.mp4'\n",
    "emotion_dict = {0: \"neutral\", 1: \"happiness\", 2: \"surprise\", 3: \"sadness\", 4: \"anger\", 5: \"disgust\", 6: \"fear\", 7: \"contempt\"}\n",
    "video           = cv2.VideoCapture(videopath)\n",
    "# video           = cv2.VideoCapture(0)\n",
    "scoreThres      = 0.3\n",
    "W               = int(video.get(cv2.CAP_PROP_FRAME_WIDTH))\n",
    "H               = int(video.get(cv2.CAP_PROP_FRAME_HEIGHT))\n",
    "strat_time = time.time()\n",
    "count = 0\n",
    "e_que = [[[],[]],[[],[]],[[],[]],[[],[]]]\n",
    "r_list = [[],[],[],[]]\n",
    "while True: \n",
    "    count += 1\n",
    "    calc_ex = 0\n",
    "    (grabbed,frame) = video.read()\n",
    "    strat_time = time.time()\n",
    "    if not grabbed:\n",
    "        break\n",
    "    output = frame\n",
    "    blob = cv2.dnn.blobFromImage(cv2.resize(frame, (300, 300)), 1.0,(300, 300), (104.0, 177.0, 123.0))\n",
    "    rows = blob.shape[2]\n",
    "    cols = blob.shape[3]\n",
    "    net.setInput(blob)\n",
    "    pred = net.forward()\n",
    "    numOfObjects= pred.shape[2]\n",
    "    gray = cv2.cvtColor(frame, cv2.COLOR_BGR2GRAY)\n",
    "    if(count % 25 == 0):\n",
    "        c_t = int(count / 25)\n",
    "        calc_ex = 1\n",
    "    for i in range(numOfObjects):\n",
    "        confidence = pred[0, 0, i, 2]\n",
    "        if confidence > scoreThres:\n",
    "            classId = int(pred[0, 0, i, 1])\n",
    "            x1 = int(pred[0, 0, i, 3] * cols) \n",
    "            y1 = int(pred[0, 0, i, 4] * rows)\n",
    "            x2 = int(pred[0, 0, i, 5] * cols)\n",
    "            y2 = int(pred[0, 0, i, 6] * rows)\n",
    "            hFactor = H/300.0 \n",
    "            wFactor = W/300.0\n",
    "            x1 = int(wFactor*x1) \n",
    "            y1 = int(hFactor*y1)\n",
    "            x2 = int(wFactor*x2)\n",
    "            y2 = int(hFactor*y2)\n",
    "            x = x1\n",
    "            y = y1\n",
    "            w = x2-x1\n",
    "            h = y2-y1\n",
    "            #expression detection\n",
    "            p_id = 0\n",
    "            c_x = (x1 + x2)/2\n",
    "            c_y = (y1 + y2)/2\n",
    "            if(c_x > W/2):\n",
    "                if(c_y > H/2):\n",
    "                    p_id = 3\n",
    "                else:\n",
    "                    p_id = 1\n",
    "            else:\n",
    "                if(c_y > H/2):\n",
    "                    p_id = 2\n",
    "                else:\n",
    "                    p_id = 0\n",
    "            roi_gray = gray[y:y + h, x:x + w]\n",
    "            cropped_img=cv2.resize(roi_gray,(64,64), interpolation=cv2.INTER_LINEAR)\n",
    "            input_data=np.array(cropped_img)\n",
    "            input_data = input_data.reshape(-1, 64, 64, 1)\n",
    "            pre_m = model(input_data,training = False)\n",
    "            prediction = np.array(pre_m)\n",
    "            #prediction = model.predict(input_data)\n",
    "            maxindex1 = int(np.argmax(prediction))\n",
    "            promax1 = prediction[0,maxindex1]\n",
    "            r_list[p_id].append(maxindex1)\n",
    "            if(calc_ex == 1):\n",
    "                if(len(r_list[p_id]) > 0):\n",
    "                    num_temp = np.argmax(np.bincount(r_list[p_id]))\n",
    "                    e_que[p_id][0].append(c_t)\n",
    "                    e_que[p_id][1].append(num_temp)\n",
    "                    r_list[p_id] = []\n",
    "            cv2.putText(output, str(p_id)+\":\"+ emotion_dict[maxindex1] + \"{:.2f}\".format(promax1), (x-1, y+30), cv2.FONT_HERSHEY_SIMPLEX, 0.5, (255, 255, 255), 1, cv2.LINE_AA)\n",
    "            ####\n",
    "            txtlbl = \"{} : {:.2f}\".format(classNames[classId],confidence)\n",
    "            txtsize = cv2.getTextSize(txtlbl,\n",
    "                                    cv2.FONT_HERSHEY_SIMPLEX,\n",
    "                                    0.5,\n",
    "                                    1)\n",
    "            bsize = txtsize[0]\n",
    "            bsline = txtsize[1]\n",
    "            cv2.rectangle(output, (x,y),(x+w,y+h),(0, 255, 0),2)\n",
    "    tt = 1 / (time.time() - strat_time)\n",
    "    cv2.putText(output,\n",
    "                    \"FPS:\" + str(tt),\n",
    "                    (70,40),\n",
    "                    cv2.FONT_HERSHEY_SIMPLEX,\n",
    "                    2,\n",
    "                    (0, 0, 0),\n",
    "                    1,\n",
    "                    cv2.LINE_AA)\n",
    "    cv2.imshow(\"SSD detection\",output)\n",
    "    k = cv2.waitKey(1) & 0xff\n",
    "    if k == 27:\n",
    "        break\n",
    "\n",
    "video.release()\n",
    "cv2.destroyAllWindows()"
   ]
  },
  {
   "cell_type": "code",
   "execution_count": null,
   "id": "ddc035d8",
   "metadata": {
    "scrolled": true
   },
   "outputs": [],
   "source": []
  },
  {
   "cell_type": "code",
   "execution_count": 23,
   "id": "183a9a64",
   "metadata": {},
   "outputs": [],
   "source": [
    "stress_level = {0: \"HS\", 1: \"LS\", 2: \"N\", 3: \"LH\", 4: \"HH\"}"
   ]
  },
  {
   "cell_type": "code",
   "execution_count": 24,
   "id": "6225c676",
   "metadata": {},
   "outputs": [],
   "source": [
    "emotion_tostress = {0: 2, 1: 3, 2: 4, 3: 1, 4: 0, 5: 1, 6: 0, 7: 1}\n",
    "#emotion_dict = {0: \"neutral\", 1: \"happiness\", 2: \"surprise\", 3: \"sadness\", 4: \"anger\", 5: \"disgust\", 6: \"fear\", 7: \"contempt\"}"
   ]
  },
  {
   "cell_type": "code",
   "execution_count": 28,
   "id": "35cac9d0",
   "metadata": {},
   "outputs": [],
   "source": [
    "# for id in range(4):\n",
    "#     for state in range(len(e_que[id][1])):\n",
    "#         e_que[id][1][state] = emotion_tostress[e_que[id][1][state]]"
   ]
  },
  {
   "cell_type": "code",
   "execution_count": 25,
   "id": "c0b2c1c7",
   "metadata": {},
   "outputs": [
    {
     "data": {
      "text/plain": [
       "14"
      ]
     },
     "execution_count": 25,
     "metadata": {},
     "output_type": "execute_result"
    }
   ],
   "source": [
    "len(e_que[1][1])"
   ]
  },
  {
   "cell_type": "code",
   "execution_count": 26,
   "id": "e1163076",
   "metadata": {},
   "outputs": [
    {
     "name": "stdout",
     "output_type": "stream",
     "text": [
      "[2 2 2 2 2 2 2 2 2 2 2 2 1 1]\n"
     ]
    }
   ],
   "source": [
    "import numpy as np\n",
    "from hmmlearn import hmm\n",
    " \n",
    "n_states = 5\n",
    " \n",
    "start_probability = np.array([0.1, 0.1, 0.6, 0.1, 0.1])\n",
    " \n",
    "transition_probability = np.array([  #  HH   LH   N    LS   HS\n",
    "  [0.2, 0.4, 0.2, 0.1, 0.1],\n",
    "  [0.2, 0.4, 0.2, 0.1, 0.1],\n",
    "  [0.1, 0.2, 0.4, 0.2, 0.1],\n",
    "  [0.1, 0.1, 0.2, 0.4, 0.2],\n",
    "  [0.1, 0.1, 0.2, 0.4, 0.2]\n",
    "])\n",
    "\n",
    "emission_probability = np.array([     #{0: \"neutral\", 1: \"happiness\", 2: \"surprise\", 3: \"sadness\", 4: \"anger\", 5: \"disgust\", 6: \"fear\", 7: \"contempt\"}\n",
    "  [0.1, 0.3, 0.6, 0.0, 0.0, 0.0, 0.0, 0.0],#HH\n",
    "  [0.2, 0.6, 0.2, 0.0, 0.0, 0.0, 0.0, 0.0],#LH\n",
    "  [0.4, 0.15, 0.05, 0.15, 0.05, 0.05, 0.05, 0.1],#N\n",
    "  [0.1, 0.0, 0.0, 0.3, 0.1, 0.1, 0.1, 0.3],#LS\n",
    "  [0.1, 0.0, 0.0, 0.15, 0.2, 0.2, 0.2, 0.15] #HS\n",
    "])\n",
    " \n",
    "hmmmodel = hmm.MultinomialHMM(n_components=n_states)\n",
    "hmmmodel.startprob_=start_probability\n",
    "hmmmodel.transmat_=transition_probability\n",
    "hmmmodel.emissionprob_=emission_probability\n",
    " \n",
    "seen = np.array([e_que[1][1]]).T\n",
    "print(hmmmodel.predict(seen))"
   ]
  },
  {
   "cell_type": "code",
   "execution_count": 63,
   "id": "008e3dc0",
   "metadata": {},
   "outputs": [
    {
     "data": {
      "image/png": "[encoded data removed]",
      "text/plain": [
       "<Figure size 432x288 with 4 Axes>"
      ]
     },
     "metadata": {
      "needs_background": "light"
     },
     "output_type": "display_data"
    }
   ],
   "source": [
    "# from matplotlib.ticker import MaxNLocator\n",
    "from matplotlib.pyplot import MultipleLocator\n",
    "seen = []\n",
    "result = []\n",
    "for id in range(4):\n",
    "    # print(e_que[id][1])\n",
    "    seen.append([e_que[id][1]])\n",
    "\n",
    "\n",
    "for i in range(len(seen)):\n",
    "    # print(hmmmodel.predict(np.array(seen[i]).T))\n",
    "    result.append(hmmmodel.predict(np.array(seen[i]).T))\n",
    "result\n",
    "\n",
    "#represent stress\n",
    "result_list=list(result)\n",
    "stress=[]\n",
    "for id in range(len(result_list)):\n",
    "    print(id)\n",
    "    stress_id=[]\n",
    "    for i in range(len(result_list[id])):\n",
    "        \n",
    "        print(stress_level[result_list[id][i]])\n",
    "        stress_id.append(stress_level[result_list[id][i]])\n",
    "    stress.append(stress_id)\n",
    "stress\n",
    "plt.figure()\n",
    "for id in range(4):\n",
    "    \n",
    "    plt.subplot(2,2,id+1)\n",
    "    plt.plot(e_que[id][0], stress[id])\n",
    "    plt.xlabel(\"time\")\n",
    "    plt.ylabel(\"stress_level\")\n",
    "    plt.title(\"id:\"+str(id))\n",
    "    y_major_locator=MultipleLocator(1)\n",
    "    ax=plt.gca()\n",
    "    ax.yaxis.set_major_locator(y_major_locator)\n",
    "    plt.ylim(-0.5,4)\n",
    "# plt.gca().yaxis.set_major_locator(MaxNLocator(integer=True))\n",
    "# fig.tight_layout()\n",
    "plt.subplots_adjust(wspace =1,hspace =1)\n",
    "plt.show()  "
   ]
  }
 ],
 "metadata": {
  "interpreter": {
   "hash": "b3ba2566441a7c06988d0923437866b63cedc61552a5af99d1f4fb67d367b25f"
  },
  "kernelspec": {
   "display_name": "Python 3 (ipykernel)",
   "language": "python",
   "name": "python3"
  },
  "language_info": {
   "codemirror_mode": {
    "name": "ipython",
    "version": 3
   },
   "file_extension": ".py",
   "mimetype": "text/x-python",
   "name": "python",
   "nbconvert_exporter": "python",
   "pygments_lexer": "ipython3",
   "version": "3.8.8"
  }
 },
 "nbformat": 4,
 "nbformat_minor": 5
}
