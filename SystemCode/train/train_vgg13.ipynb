{
 "cells": [
  {
   "cell_type": "code",
   "execution_count": 2,
   "id": "fa7684cc",
   "metadata": {},
   "outputs": [],
   "source": [
    "from tensorflow.compat.v1 import ConfigProto\n",
    "from tensorflow.compat.v1 import InteractiveSession\n",
    "\n",
    "config = ConfigProto()\n",
    "config.gpu_options.allow_growth = True\n",
    "session = InteractiveSession(config=config)\n",
    "\n",
    "import numpy as np\n",
    "import cv2\n",
    "import matplotlib.pyplot as plt\n",
    "from tensorflow.keras.models import Sequential\n",
    "from tensorflow.keras.layers import Dense, Dropout, Flatten\n",
    "from tensorflow.keras.layers import Conv2D\n",
    "from tensorflow.keras.optimizers import Adam\n",
    "from tensorflow.keras.layers import MaxPooling2D\n",
    "from tensorflow.keras.preprocessing.image import ImageDataGenerator\n",
    "from keras.callbacks import LambdaCallback\n",
    "from keras.callbacks import ModelCheckpoint\n",
    "import pandas as pd\n",
    "import keras"
   ]
  },
  {
   "cell_type": "code",
   "execution_count": null,
   "id": "3a3979a2",
   "metadata": {},
   "outputs": [],
   "source": [
    "def vgg13_model(n_classes):\n",
    "    model = Sequential()\n",
    "    model.add(Conv2D(64, (3, 3), strides=(1, 1), input_shape=(64, 64, 1), padding='same', activation='relu',\n",
    "                     kernel_initializer='glorot_uniform'))\n",
    "    model.add(Conv2D(64, (3, 3), strides=(1, 1), padding='same', activation='relu', kernel_initializer='glorot_uniform'))\n",
    "    model.add(MaxPooling2D(pool_size=(2, 2)))\n",
    "    model.add(Dropout(0.25))\n",
    "    model.add(Conv2D(128, (3, 3), strides=(1, 1), padding='same', activation='relu', kernel_initializer='glorot_uniform'))\n",
    "    model.add(Conv2D(128, (3, 3), strides=(1, 1), padding='same', activation='relu', kernel_initializer='glorot_uniform'))\n",
    "    model.add(MaxPooling2D(pool_size=(2, 2)))\n",
    "    model.add(Dropout(0.25))\n",
    "    model.add(Conv2D(256, (3, 3), strides=(1, 1), padding='same', activation='relu', kernel_initializer='glorot_uniform'))\n",
    "    model.add(Conv2D(256, (3, 3), strides=(1, 1), padding='same', activation='relu', kernel_initializer='glorot_uniform'))\n",
    "    model.add(Conv2D(256, (3, 3), strides=(1, 1), padding='same', activation='relu', kernel_initializer='glorot_uniform'))\n",
    "    model.add(MaxPooling2D(pool_size=(2, 2)))\n",
    "    model.add(Dropout(0.25))\n",
    "    model.add(Conv2D(256, (3, 3), strides=(1, 1), padding='same', activation='relu', kernel_initializer='glorot_uniform'))\n",
    "    model.add(Conv2D(256, (3, 3), strides=(1, 1), padding='same', activation='relu', kernel_initializer='glorot_uniform'))\n",
    "    model.add(Conv2D(256, (3, 3), strides=(1, 1), padding='same', activation='relu', kernel_initializer='glorot_uniform'))\n",
    "    model.add(MaxPooling2D(pool_size=(2, 2)))\n",
    "    model.add(Dropout(0.25))\n",
    "    model.add(Flatten())\n",
    "    model.add(Dense(1024, activation='relu'))\n",
    "    model.add(Dropout(0.5))\n",
    "    model.add(Dense(1024, activation='relu'))\n",
    "    model.add(Dropout(0.5))\n",
    "    model.add(Dense(n_classes, activation='softmax'))\n",
    "    return model"
   ]
  },
  {
   "cell_type": "code",
   "execution_count": null,
   "id": "efa0d391",
   "metadata": {},
   "outputs": [],
   "source": [
    "def cv2plt(img):\n",
    "    print(img.shape)\n",
    "    if(len(img.shape) == 3):\n",
    "        plt.axis('off') \n",
    "        plt.imshow(cv2.cvtColor(img, cv2.COLOR_BGR2RGB)) \n",
    "        plt.show()\n",
    "    else:\n",
    "        plt.axis('off') \n",
    "        plt.imshow(img, cmap='gray', vmin=0, vmax=255)  \n",
    "        plt.show()"
   ]
  },
  {
   "cell_type": "code",
   "execution_count": null,
   "id": "d6f64482",
   "metadata": {},
   "outputs": [],
   "source": [
    "def one_hot(data, num_classes):\n",
    "    return np.squeeze(np.eye(num_classes)[data.reshape(-1)])"
   ]
  },
  {
   "cell_type": "code",
   "execution_count": null,
   "id": "8e6d2904",
   "metadata": {},
   "outputs": [],
   "source": [
    "###test\n"
   ]
  },
  {
   "cell_type": "code",
   "execution_count": null,
   "id": "0a45c032",
   "metadata": {},
   "outputs": [],
   "source": [
    "def load_data(path):\n",
    "    label_path = path + \"label.csv\"\n",
    "    label = pd.read_csv(label_path, header=None)\n",
    "    temp = label.to_numpy()\n",
    "    dataset = []\n",
    "    labels = []\n",
    "    for i in range(temp.shape[0]):\n",
    "        cat = np.argmax(temp[i, 2:10], axis=0)\n",
    "        #print(cat)\n",
    "        imgfile = path + temp[i][0]\n",
    "        img = cv2.cvtColor(cv2.imread(imgfile), cv2.COLOR_BGR2GRAY)\n",
    "        img=cv2.resize(img,(64,64), interpolation=cv2.INTER_CUBIC)\n",
    "        dataset.append(img)\n",
    "        labels.append(cat)\n",
    "        \n",
    "    dataset=np.array(dataset)\n",
    "    labels=np.array(labels)\n",
    "    labels=one_hot(labels, 8)\n",
    "    return dataset, labels"
   ]
  },
  {
   "cell_type": "code",
   "execution_count": null,
   "id": "bcb3ab36",
   "metadata": {},
   "outputs": [],
   "source": [
    "emotion_table = {'neutral'  : 0, \n",
    "                 'happiness': 1, \n",
    "                 'surprise' : 2, \n",
    "                 'sadness'  : 3, \n",
    "                 'anger'    : 4, \n",
    "                 'disgust'  : 5, \n",
    "                 'fear'     : 6, \n",
    "                 'contempt' : 7}"
   ]
  },
  {
   "cell_type": "code",
   "execution_count": null,
   "id": "812c58dd",
   "metadata": {},
   "outputs": [],
   "source": [
    "path = \"./data/FER2013Train/\"\n",
    "train_x, train_y = load_data(path)\n",
    "path = \"./data/FER2013Valid/\"\n",
    "valid_x, valid_y = load_data(path)\n",
    "path = \"./data/FER2013Test/\"\n",
    "test_x, test_y = load_data(path)\n"
   ]
  },
  {
   "cell_type": "code",
   "execution_count": null,
   "id": "4a6de8b8",
   "metadata": {},
   "outputs": [],
   "source": [
    "\n",
    "train_x = train_x.reshape(-1, 64, 64, 1)/255.0  #normalize\n",
    "valid_x = valid_x.reshape(-1, 64, 64, 1)/255.0  #normalize\n",
    "\n",
    "print(train_x.shape,valid_x.shape)"
   ]
  },
  {
   "cell_type": "code",
   "execution_count": null,
   "id": "36685a3c",
   "metadata": {},
   "outputs": [],
   "source": [
    "#train_x[0,0,0,0].dtype\n",
    "#import tensorflow as tf\n",
    "#train_x, valid_x = tf.cast(train_x,dtype=tf.float32),tf.cast(valid_x,dtype=tf.float32)"
   ]
  },
  {
   "cell_type": "code",
   "execution_count": null,
   "id": "cf641530",
   "metadata": {},
   "outputs": [],
   "source": [
    "print(test_x.shape)\n",
    "test_x = test_x.reshape(-1, 64, 64, 1)/255.0  # normalize\n",
    "#test_x = tf.cast(test_x,dtype=tf.float32)\n",
    "print(test_x.shape)"
   ]
  },
  {
   "cell_type": "code",
   "execution_count": null,
   "id": "8897f67b",
   "metadata": {
    "scrolled": true
   },
   "outputs": [],
   "source": [
    "print(train_x[0,:,:,0])\n",
    "cv2plt(train_x[0,:,:,0])\n",
    "print(valid_x[0,:,:,0])\n",
    "cv2plt(valid_x[0,:,:,0])"
   ]
  },
  {
   "cell_type": "code",
   "execution_count": null,
   "id": "a06b4f43",
   "metadata": {},
   "outputs": [],
   "source": [
    "n_classes = 8 #设定最后的输出层\n",
    "training_epochs = 20 #设定整体训练数据共训练多少次\n",
    "batch_size = 32 #设定每次提取多少张图片\n",
    "model = vgg13_model(n_classes)"
   ]
  },
  {
   "cell_type": "code",
   "execution_count": null,
   "id": "8ea093d2",
   "metadata": {},
   "outputs": [],
   "source": [
    "#model.load_weights('./model/model_32-0.69.hdf5')"
   ]
  },
  {
   "cell_type": "code",
   "execution_count": null,
   "id": "09c7623a",
   "metadata": {},
   "outputs": [],
   "source": [
    "# 每隔一个训练循环就用柱状图显示信息\n",
    "filepath=\"./model_vgg10_size64_Adagrad/model_{epoch:02d}-{val_accuracy:.2f}.hdf5\"\n",
    "callbacks = [keras.callbacks.TensorBoard(log_dir='./keras_log_vgg10_sgd'.format(model)), ModelCheckpoint(filepath, monitor='val_accuracy',verbose=1, save_best_only=True)]"
   ]
  },
  {
   "cell_type": "code",
   "execution_count": null,
   "id": "7231b09b",
   "metadata": {
    "scrolled": true
   },
   "outputs": [],
   "source": [
    "from keras.optimizers import SGD, Adam\n",
    "sgd = keras.optimizers.Adagrad()\n",
    "\n",
    "model.compile(\n",
    "          optimizer=\"sgd\",\n",
    "          metrics=['accuracy'],   #评价指标\n",
    "          loss='categorical_crossentropy')   #计算损失---分类交叉熵函数，  binary_crossentropy（二分类）\n",
    "model.summary()\n",
    "history = model.fit(train_x, train_y, batch_size=batch_size, epochs=training_epochs, validation_data=(valid_x, valid_y),shuffle = True,callbacks=callbacks)"
   ]
  },
  {
   "cell_type": "code",
   "execution_count": null,
   "id": "1ce7e833",
   "metadata": {},
   "outputs": [],
   "source": [
    "history = model.fit(train_x, train_y, batch_size=batch_size, epochs=20, validation_data=(valid_x, valid_y),shuffle = True,callbacks=callbacks)"
   ]
  },
  {
   "cell_type": "code",
   "execution_count": null,
   "id": "b718d487",
   "metadata": {
    "scrolled": true
   },
   "outputs": [],
   "source": [
    "# 绘制训练 & 验证的准确率值\n",
    "plt.plot(history.history['accuracy'])\n",
    "plt.plot(history.history['val_accuracy'])\n",
    "plt.title('Model accuracy')\n",
    "plt.ylabel('Accuracy')\n",
    "plt.xlabel('Epoch')\n",
    "plt.legend(['Train', 'Test'], loc='upper left')\n",
    "plt.show()\n",
    "\n",
    "# 绘制训练 & 验证的损失值\n",
    "plt.plot(history.history['loss'])\n",
    "plt.plot(history.history['val_loss'])\n",
    "plt.title('Model loss')\n",
    "plt.ylabel('Loss')\n",
    "plt.xlabel('Epoch')\n",
    "plt.legend(['Train', 'Test'], loc='upper left')\n",
    "plt.show()"
   ]
  },
  {
   "cell_type": "code",
   "execution_count": null,
   "id": "29b46f6f",
   "metadata": {
    "scrolled": true
   },
   "outputs": [],
   "source": [
    "test_x.shape\n",
    "result = np.zeros([8,8],dtype = int)\n",
    "\n",
    "print(result)\n",
    "temp = test_x[1,:,:,:].reshape(-1,64,64,1)\n",
    "prediction = model.predict(temp)\n",
    "rr = int(np.argmax(prediction))\n",
    "label = int(np.argmax(test_y[1]))\n",
    "print(rr)\n",
    "print(label)\n",
    "prediction = model.predict(test_x)\n",
    "for i in range(test_x.shape[0]):\n",
    "    rr = int(np.argmax(prediction[i]))\n",
    "    label = int(np.argmax(test_y[i]))\n",
    "    result[rr][label] += 1\n",
    "    \n",
    "print(result)"
   ]
  },
  {
   "cell_type": "code",
   "execution_count": null,
   "id": "752dbed4",
   "metadata": {},
   "outputs": [],
   "source": [
    "model = vgg13_model(8)\n",
    "model.load_weights('./model_size64_Adagrad/model_40-0.80.hdf5')"
   ]
  },
  {
   "cell_type": "code",
   "execution_count": null,
   "id": "235c1eb6",
   "metadata": {},
   "outputs": [],
   "source": [
    "\n",
    "cv2.ocl.setUseOpenCL(False)\n",
    "emotion_dict = {0: \"neutral\", 1: \"happiness\", 2: \"surprise\", 3: \"sadness\", 4: \"anger\", 5: \"disgust\", 6: \"fear\", 7: \"contempt\"}\n",
    "cap = cv2.VideoCapture(0)\n",
    "while True:\n",
    "    # Find haar cascade to draw bounding box around face\n",
    "    ret, frame = cap.read()\n",
    "    if not ret:\n",
    "        break\n",
    "    facecasc = cv2.CascadeClassifier('haarcascade_frontalface_default.xml')\n",
    "    gray = cv2.cvtColor(frame, cv2.COLOR_BGR2GRAY)\n",
    "    faces = facecasc.detectMultiScale(gray,scaleFactor=1.3, minNeighbors=5)\n",
    "    frame = gray\n",
    "    for (x, y, w, h) in faces:\n",
    "        cv2.rectangle(frame, (x, y-50), (x+w, y+h+10), (255, 0, 0), 2)\n",
    "        roi_gray = gray[y:y + h, x:x + w]\n",
    "        cropped_img=cv2.resize(roi_gray,(64,64), interpolation=cv2.INTER_CUBIC)\n",
    "        input_data=np.array(cropped_img)\n",
    "        input_data = input_data.reshape(-1, 64, 64, 1)\n",
    "        prediction = model.predict(input_data)\n",
    "        #print(prediction)\n",
    "        maxindex1 = int(np.argmax(prediction))\n",
    "        promax1 = prediction[0,maxindex1]\n",
    "        prediction[0,maxindex1] = 0.0\n",
    "        maxindex2 = int(np.argmax(prediction))\n",
    "        promax2 = prediction[0,maxindex2]\n",
    "        #print(maxindex)\n",
    "        #if(maxindex1 == 0 and promax2 > 0.1):\n",
    "        #    maxindex = maxindex2\n",
    "        #else:\n",
    "        #    maxindex = maxindex1\n",
    "        #cv2.putText(frame, emotion_dict[maxindex], (x+20, y-60), cv2.FONT_HERSHEY_SIMPLEX, 1, (255, 255, 255), 2, cv2.LINE_AA)\n",
    "        cv2.putText(frame, emotion_dict[maxindex1] + \"{:.2f}\".format(promax1), (x+20, y-60), cv2.FONT_HERSHEY_SIMPLEX, 1, (255, 255, 255), 2, cv2.LINE_AA)\n",
    "        cv2.putText(frame, emotion_dict[maxindex2] + \"{:.2f}\".format(promax2), (x+40, y-30), cv2.FONT_HERSHEY_SIMPLEX, 1, (0, 255, 255), 2, cv2.LINE_AA)\n",
    "\n",
    "    cv2.imshow('Video', cv2.resize(frame,(704,576),interpolation = cv2.INTER_CUBIC))\n",
    "    #cv2.imshow('Video', cv2.resize(gray,(704,576),interpolation = cv2.INTER_CUBIC))\n",
    "    if cv2.waitKey(1) & 0xFF == ord('q'):\n",
    "        break\n",
    "\n",
    "cap.release()\n",
    "cv2.destroyAllWindows()"
   ]
  },
  {
   "cell_type": "code",
   "execution_count": null,
   "id": "7d82bd76",
   "metadata": {},
   "outputs": [],
   "source": []
  },
  {
   "cell_type": "code",
   "execution_count": null,
   "id": "9aaaf0ca",
   "metadata": {},
   "outputs": [],
   "source": []
  }
 ],
 "metadata": {
  "kernelspec": {
   "display_name": "Python 3 (ipykernel)",
   "language": "python",
   "name": "python3"
  },
  "language_info": {
   "codemirror_mode": {
    "name": "ipython",
    "version": 3
   },
   "file_extension": ".py",
   "mimetype": "text/x-python",
   "name": "python",
   "nbconvert_exporter": "python",
   "pygments_lexer": "ipython3",
   "version": "3.8.8"
  }
 },
 "nbformat": 4,
 "nbformat_minor": 5
}
